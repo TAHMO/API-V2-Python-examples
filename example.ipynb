{
 "cells": [
  {
   "cell_type": "markdown",
   "id": "2090a390-6303-40d2-9f56-cc306ef23858",
   "metadata": {},
   "source": [
    "# API V2 Python examples in Jupyter\n",
    "This example notebook will show the same functionalities as the regular \"example.py\" python file. "
   ]
  },
  {
   "cell_type": "code",
   "execution_count": null,
   "id": "656c0b75-dd0a-4797-a488-d8edba5efafb",
   "metadata": {},
   "outputs": [],
   "source": [
    "# Install required packages through pip.\n",
    "# Please note that if you installed jupyter through Anaconda or Minicond you should use conda to install the packages instead.\n",
    "import sys\n",
    "!{sys.executable} -m pip install numpy\n",
    "!{sys.executable} -m pip install pandas\n",
    "!{sys.executable} -m pip install python-dateutil\n",
    "!{sys.executable} -m pip install requests"
   ]
  },
  {
   "cell_type": "code",
   "execution_count": 12,
   "id": "a48f3200-3ad1-48e6-b1ed-25b8cb427c90",
   "metadata": {},
   "outputs": [],
   "source": [
    "import TAHMO"
   ]
  },
  {
   "cell_type": "code",
   "execution_count": 20,
   "id": "d0c38822-6ed4-430f-b8ce-8bd95397b319",
   "metadata": {},
   "outputs": [],
   "source": [
    "# The demo credentials listed below give you access to three pre-defined stations. \n",
    "# Please use the API credentials provided to you to get access to all stations configured for you specifically.\n",
    "api = TAHMO.apiWrapper()\n",
    "api.setCredentials('demo', 'DemoPassword1!')"
   ]
  },
  {
   "cell_type": "code",
   "execution_count": 21,
   "id": "0b57fe8d-657c-4ad2-8fa2-1217ebfab6d3",
   "metadata": {},
   "outputs": [
    {
     "name": "stdout",
     "output_type": "stream",
     "text": [
      "API request: services/assets/v2/stations\n",
      "Account has access to stations: TA00016, TA00134, TA00252\n"
     ]
    }
   ],
   "source": [
    "# Example 1: Get metadata from all stations that your account has access to.\n",
    "stations = api.getStations()\n",
    "print('Account has access to stations: %s' % ', '.join(list(stations)))"
   ]
  },
  {
   "cell_type": "code",
   "execution_count": 22,
   "id": "4bbec0dd-fac4-49c8-844f-1c9ba2e10bed",
   "metadata": {},
   "outputs": [
    {
     "name": "stdout",
     "output_type": "stream",
     "text": [
      "API request: services/assets/v2/variables\n",
      "Available variables in TAHMO API:\n",
      "Atmospheric pressure [kPa] with shortcode \"ap\"\n",
      "Depth of water [mm] with shortcode \"dw\"\n",
      "Electrical conductivity of precipitation [mS/cm] with shortcode \"ec\"\n",
      "Electrical conductivity of water [mS/cm] with shortcode \"ew\"\n",
      "Lightning distance [km] with shortcode \"ld\"\n",
      "Lightning events [-] with shortcode \"le\"\n",
      "Shortwave radiation [W/m2] with shortcode \"ra\"\n",
      "Soil moisture content [m3/m3] with shortcode \"sm\"\n",
      "Soil temperature [degrees Celsius] with shortcode \"st\"\n",
      "Surface air temperature [degrees Celsius] with shortcode \"te\"\n",
      "Vapor pressure [kPa] with shortcode \"vp\"\n",
      "Wind gusts [m/s] with shortcode \"wg\"\n",
      "Wind speed [m/s] with shortcode \"ws\"\n",
      "Temperature of humidity sensor [degrees Celsius] with shortcode \"ht\"\n",
      "X-axis level [degrees] with shortcode \"tx\"\n",
      "Y-axis level [degrees] with shortcode \"ty\"\n",
      "Logger battery percentage [-] with shortcode \"lb\"\n",
      "Logger reference pressure [kPa] with shortcode \"lp\"\n",
      "Logger temperature [degrees Celsius] with shortcode \"lt\"\n",
      "Cumulative precipitation [mm] with shortcode \"cp\"\n",
      "Water level [m] with shortcode \"wl\"\n",
      "Water velocity [m/s] with shortcode \"wv\"\n",
      "Precipitation [mm] with shortcode \"pr\"\n",
      "Relative humidity [-] with shortcode \"rh\"\n",
      "Wind direction [degrees] with shortcode \"wd\"\n",
      "Soil electrical conductivity [mS/cm] with shortcode \"se\"\n",
      "Water temperature [degrees Celsius] with shortcode \"tw\"\n",
      "Water discharge [m3/s] with shortcode \"wq\"\n"
     ]
    }
   ],
   "source": [
    "# Example 2: Get all variables and units from the TAHMO API.\n",
    "variables = api.getVariables()\n",
    "print('Available variables in TAHMO API:')\n",
    "for variable in variables:\n",
    "    print('%s [%s] with shortcode \"%s\"' %\n",
    "          (variables[variable]['description'], variables[variable]['units'], variables[variable]['shortcode']))"
   ]
  },
  {
   "cell_type": "code",
   "execution_count": 23,
   "id": "446a95c2-f8d3-4d51-8442-644e1b98bb78",
   "metadata": {},
   "outputs": [
    {
     "name": "stdout",
     "output_type": "stream",
     "text": [
      "API request: services/measurements/v2/stations/TA00252/measurements/controlled\n",
      "Timeseries saved to file \"timeseries.csv\"\n"
     ]
    }
   ],
   "source": [
    "# Example 3: Retrieve a pandas dataframe containing the time serie of surface air observations and save to CSV file.\n",
    "station = 'TA00252'\n",
    "startDate = '2019-01-01'\n",
    "endDate = '2019-01-31'\n",
    "variables = ['te', 'ap']\n",
    "\n",
    "df = api.getMeasurements(station, startDate=startDate, endDate=endDate, variables=variables)\n",
    "df.index.name = 'Timestamp'\n",
    "df.to_csv('timeseries.csv', na_rep='', date_format='%Y-%m-%d %H:%M')\n",
    "print('Timeseries saved to file \"timeseries.csv\"')"
   ]
  },
  {
   "cell_type": "code",
   "execution_count": null,
   "id": "312b61d3-d5c3-4b51-a2ad-5c8abd2aaec9",
   "metadata": {},
   "outputs": [],
   "source": []
  }
 ],
 "metadata": {
  "kernelspec": {
   "display_name": "Python 3 (ipykernel)",
   "language": "python",
   "name": "python3"
  },
  "language_info": {
   "codemirror_mode": {
    "name": "ipython",
    "version": 3
   },
   "file_extension": ".py",
   "mimetype": "text/x-python",
   "name": "python",
   "nbconvert_exporter": "python",
   "pygments_lexer": "ipython3",
   "version": "3.9.5"
  }
 },
 "nbformat": 4,
 "nbformat_minor": 5
}
